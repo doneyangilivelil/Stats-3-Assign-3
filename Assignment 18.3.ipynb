{
 "cells": [
  {
   "cell_type": "markdown",
   "metadata": {},
   "source": [
    "Problem Statement 1:\n",
    "\n",
    "You take the SAT and score 1100. The mean score for the SAT is 1026 and the standard\n",
    "deviation is 209. How well did you score on the test compared to the average test taker?"
   ]
  },
  {
   "cell_type": "code",
   "execution_count": null,
   "metadata": {},
   "outputs": [],
   "source": [
    "Given are population data:\n",
    "    x=1100\n",
    "    U=1026\n",
    "    sigma=209\n",
    "    \n",
    "    P(X<=1100)=pnorm(1100,1026,209)  [R code to get area under]\n",
    "            =.638\n",
    "        This means that 63.8% of population is less than my score\n",
    "    \n",
    "    Now comparing with U=1026:\n",
    "        P(X<=1026)=.5\n",
    "        which is 50% of population.\n",
    "    Hence My score is close to 1-standard deviation from mean. [U+1sigma]"
   ]
  }
 ],
 "metadata": {
  "kernelspec": {
   "display_name": "Python 3",
   "language": "python",
   "name": "python3"
  },
  "language_info": {
   "codemirror_mode": {
    "name": "ipython",
    "version": 3
   },
   "file_extension": ".py",
   "mimetype": "text/x-python",
   "name": "python",
   "nbconvert_exporter": "python",
   "pygments_lexer": "ipython3",
   "version": "3.6.4"
  }
 },
 "nbformat": 4,
 "nbformat_minor": 2
}
